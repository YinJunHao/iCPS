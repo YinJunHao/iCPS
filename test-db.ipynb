{
 "cells": [
  {
   "cell_type": "code",
   "execution_count": 16,
   "metadata": {},
   "outputs": [],
   "source": [
    "from pymongo import MongoClient\n",
    "from bson import ObjectId"
   ]
  },
  {
   "cell_type": "code",
   "execution_count": 6,
   "metadata": {},
   "outputs": [],
   "source": [
    "from intelCPS.functions.db_functions import *"
   ]
  },
  {
   "cell_type": "code",
   "execution_count": 2,
   "metadata": {},
   "outputs": [],
   "source": [
    "client = MongoClient('172.16.135.164', 27017)"
   ]
  },
  {
   "cell_type": "code",
   "execution_count": 5,
   "metadata": {},
   "outputs": [],
   "source": [
    "robot = client['resources']['robot']\n",
    "hardware = client['resources']['hardware_resources']"
   ]
  },
  {
   "cell_type": "code",
   "execution_count": 7,
   "metadata": {},
   "outputs": [],
   "source": [
    "from pprint import pprint"
   ]
  },
  {
   "cell_type": "code",
   "execution_count": 11,
   "metadata": {},
   "outputs": [],
   "source": [
    "backup_robot = []\n",
    "for item in robot.find():\n",
    "    backup_robot.append(item)"
   ]
  },
  {
   "cell_type": "code",
   "execution_count": 13,
   "metadata": {},
   "outputs": [],
   "source": [
    "backup_hardware = []\n",
    "for item in hardware.find():\n",
    "    backup_hardware.append(item)"
   ]
  },
  {
   "cell_type": "code",
   "execution_count": 12,
   "metadata": {
    "scrolled": true
   },
   "outputs": [
    {
     "name": "stdout",
     "output_type": "stream",
     "text": [
      "[{'ID': 'E57954',\n",
      "  '_id': ObjectId('5bf3c440b835f71aa0b19c84'),\n",
      "  'availability': '0',\n",
      "  'available': '1',\n",
      "  'coordinates': {'x': 5, 'y': 10, 'z': 5},\n",
      "  'cyber_twin_address': '127.0.0.1',\n",
      "  'name': 'Right Actuator Arm',\n",
      "  'num': 1,\n",
      "  'port': 9999,\n",
      "  'status': '0',\n",
      "  'type': 'actuator'},\n",
      " {'ID': 'E98635',\n",
      "  '_id': ObjectId('5bf3c440b835f71aa0b19c85'),\n",
      "  'availability': '0',\n",
      "  'available': '1',\n",
      "  'coordinates': {'x': 10, 'y': 5, 'z': 5},\n",
      "  'cyber_twin_address': '127.0.0.1',\n",
      "  'name': 'Rotating Base',\n",
      "  'num': 2,\n",
      "  'port': 9999,\n",
      "  'status': '0',\n",
      "  'type': 'rotate_base'},\n",
      " {'ID': 'E71039',\n",
      "  '_id': ObjectId('5bf3c440b835f71aa0b19c86'),\n",
      "  'availability': '0',\n",
      "  'available': '1',\n",
      "  'coordinates': {'x': 5, 'y': 0, 'z': 5},\n",
      "  'cyber_twin_address': '127.0.0.1',\n",
      "  'name': 'Left Actuator Arm',\n",
      "  'num': 3,\n",
      "  'port': 9999,\n",
      "  'status': '0',\n",
      "  'type': 'actuator'},\n",
      " {'ID': 'E87626',\n",
      "  '_id': ObjectId('5bf3c440b835f71aa0b19c87'),\n",
      "  'availability': '1',\n",
      "  'available': '1',\n",
      "  'coordinates': {'x': -1, 'y': -1, 'z': 10},\n",
      "  'cyber_twin_address': '127.0.0.1',\n",
      "  'name': 'Base Lifter',\n",
      "  'num': 4,\n",
      "  'port': 9999,\n",
      "  'status': '1',\n",
      "  'type': 'lift_base'},\n",
      " {'ID': 'E66785',\n",
      "  '_id': ObjectId('5bf3c440b835f71aa0b19c88'),\n",
      "  'availability': '0',\n",
      "  'cyber_twin_address': '127.0.0.1',\n",
      "  'name': 'Conveyer Belt',\n",
      "  'port': 9999,\n",
      "  'status': '0',\n",
      "  'type': 'vehicle'},\n",
      " {'ID': 'E94573',\n",
      "  '_id': ObjectId('5bf3c440b835f71aa0b19c89'),\n",
      "  'availability': '0',\n",
      "  'cyber_twin_address': '127.0.0.1',\n",
      "  'name': 'Crane',\n",
      "  'port': 9999,\n",
      "  'status': '0',\n",
      "  'type': 'vehicle'},\n",
      " {'ID': 'E52978',\n",
      "  '_id': ObjectId('5bf3c440b835f71aa0b19c8a'),\n",
      "  'availability': '1',\n",
      "  'cyber_twin_address': '127.0.0.1',\n",
      "  'is_deleted': True,\n",
      "  'name': 'Conveyer Belt',\n",
      "  'port': 9999,\n",
      "  'status': '1',\n",
      "  'type': 'vehicle'},\n",
      " {'ID': 'E67854',\n",
      "  '_id': ObjectId('5bf3c440b835f71aa0b19c8b'),\n",
      "  'availability': '1',\n",
      "  'cyber_twin_address': '127.0.0.1',\n",
      "  'is_deleted': True,\n",
      "  'name': 'Top Actuator Arm',\n",
      "  'port': 9999,\n",
      "  'status': '1',\n",
      "  'type': 'actuator'},\n",
      " {'ID': 'E77244',\n",
      "  '_id': ObjectId('5bf3c440b835f71aa0b19c8c'),\n",
      "  'availability': '1',\n",
      "  'cyber_twin_address': '127.0.0.1',\n",
      "  'is_deleted': True,\n",
      "  'name': 'Bottom Actuator Arm',\n",
      "  'port': 9999,\n",
      "  'status': '1',\n",
      "  'type': 'actuator'}]\n"
     ]
    }
   ],
   "source": [
    "pprint(backup_robot)"
   ]
  },
  {
   "cell_type": "code",
   "execution_count": 23,
   "metadata": {},
   "outputs": [],
   "source": [
    "def replace_status(db):\n",
    "    for item in db.find():\n",
    "        item_id = str(item['_id'])\n",
    "        try:\n",
    "            status = item['status']\n",
    "            assigned = status\n",
    "            db.update_one({\"_id\": ObjectId(item_id)}, {\"$set\": {\n",
    "                \"assigned\": assigned\n",
    "            }}, upsert = True)\n",
    "            db.update_one({\"_id\": ObjectId(item_id)}, {\"$unset\": {\n",
    "                \"status\": \"\"\n",
    "            }})\n",
    "        except Exception as e:\n",
    "            print(e)\n",
    "        \n",
    "    "
   ]
  },
  {
   "cell_type": "code",
   "execution_count": 24,
   "metadata": {
    "scrolled": false
   },
   "outputs": [
    {
     "name": "stdout",
     "output_type": "stream",
     "text": [
      "'status'\n",
      "'status'\n",
      "'status'\n",
      "'status'\n",
      "'status'\n",
      "'status'\n",
      "'status'\n",
      "'status'\n",
      "'status'\n",
      "'status'\n"
     ]
    }
   ],
   "source": [
    "replace_status(hardware)"
   ]
  },
  {
   "cell_type": "code",
   "execution_count": 26,
   "metadata": {
    "scrolled": false
   },
   "outputs": [
    {
     "data": {
      "text/plain": [
       "[{'_id': ObjectId('5bf3c440b835f71aa0b19c7d'),\n",
       "  'num': 1,\n",
       "  'ID': 'H87564',\n",
       "  'name': 'Main Camera',\n",
       "  'coordinate': {'x': 2.49,\n",
       "   'y': 0.2,\n",
       "   'z': 1.37,\n",
       "   'position_sensor_tag': '5D0D',\n",
       "   'location_id': 'NUS0001-01'},\n",
       "  'input': 'camera_feed',\n",
       "  'output': 'user_movement',\n",
       "  'type': 'camera',\n",
       "  'availability': '1',\n",
       "  'cyber_twin_address': '127.0.0.1',\n",
       "  'port': 9999,\n",
       "  'location_id': 'NUS0001-01',\n",
       "  'assigned': '1'},\n",
       " {'_id': ObjectId('5bf3c440b835f71aa0b19c7e'),\n",
       "  'num': 2,\n",
       "  'ID': 'H79865',\n",
       "  'name': 'Sub Camera 1',\n",
       "  'coordinate': {'x': 0, 'y': 0, 'z': 0},\n",
       "  'input': 'camera_feed',\n",
       "  'output': 'machine_status',\n",
       "  'type': 'camera',\n",
       "  'availability': '0',\n",
       "  'cyber_twin_address': '127.0.0.1',\n",
       "  'port': 9999,\n",
       "  'location_id': 'NUS0001-01',\n",
       "  'assigned': '0'},\n",
       " {'_id': ObjectId('5bf3c440b835f71aa0b19c7f'),\n",
       "  'num': 3,\n",
       "  'ID': 'H16543',\n",
       "  'name': 'Sub Camera 2',\n",
       "  'coordinate': {'x': 5, 'y': 10, 'z': 5},\n",
       "  'input': 'camera_feed',\n",
       "  'output': 'user_movement',\n",
       "  'type': 'camera',\n",
       "  'availability': '1',\n",
       "  'cyber_twin_address': '127.0.0.1',\n",
       "  'port': 9999,\n",
       "  'location_id': 'NUS0001-02',\n",
       "  'assigned': '1'},\n",
       " {'_id': ObjectId('5bf3c440b835f71aa0b19c80'),\n",
       "  'num': 4,\n",
       "  'ID': 'H23678',\n",
       "  'name': 'Input Device',\n",
       "  'coordinate': {'x': -1, 'y': -1, 'z': -1},\n",
       "  'input': 'user_input',\n",
       "  'output': 'business_req',\n",
       "  'availability': '1',\n",
       "  'type': 'input_device',\n",
       "  'is_deleted': True,\n",
       "  'cyber_twin_address': '127.0.0.1',\n",
       "  'port': 9999,\n",
       "  'assigned': '1'},\n",
       " {'_id': ObjectId('5bf3c440b835f71aa0b19c81'),\n",
       "  'ID': 'H23468',\n",
       "  'availability': '1',\n",
       "  'input': 'setting',\n",
       "  'name': 'Convection Oven',\n",
       "  'output': 'heating',\n",
       "  'type': 'heating_device',\n",
       "  'cyber_twin_address': '127.0.0.1',\n",
       "  'port': 9999,\n",
       "  'location_id': 'NUS0001-01',\n",
       "  'assigned': '1'},\n",
       " {'_id': ObjectId('5bf3c440b835f71aa0b19c82'),\n",
       "  'ID': 'H22147',\n",
       "  'availability': '1',\n",
       "  'input': 'setting',\n",
       "  'name': 'Filament Oven',\n",
       "  'output': 'heating',\n",
       "  'type': 'heating_device',\n",
       "  'cyber_twin_address': '127.0.0.1',\n",
       "  'port': 9999,\n",
       "  'location_id': 'NUS0001-04',\n",
       "  'assigned': '1'},\n",
       " {'_id': ObjectId('5bf3c440b835f71aa0b19c83'),\n",
       "  'ID': 'H34578',\n",
       "  'availability': '1',\n",
       "  'input': 'setting',\n",
       "  'name': 'Microwave Oven',\n",
       "  'output': 'heating',\n",
       "  'type': 'heating_device',\n",
       "  'cyber_twin_address': '127.0.0.1',\n",
       "  'port': 9999,\n",
       "  'location_id': 'NUS0001-04',\n",
       "  'assigned': '1'},\n",
       " {'_id': ObjectId('5c3c0d4771e9ff2bf848f7f6'),\n",
       "  'ID': 'H87565',\n",
       "  'name': 'Portable Camera',\n",
       "  'type': 'camera',\n",
       "  'availability': '0',\n",
       "  'location_id': 'NUS0001-02',\n",
       "  'assigned': '0'},\n",
       " {'_id': ObjectId('5c481970b835f744fc28be5f'),\n",
       "  'ID': 'H87566',\n",
       "  'name': 'asdf',\n",
       "  'type': 'test',\n",
       "  'availability': '1',\n",
       "  'last_update': '2019-01-23 15:36:16',\n",
       "  'location_id': 'NUS0001-01',\n",
       "  'is_deleted': True,\n",
       "  'assigned': '1'},\n",
       " {'_id': ObjectId('5c5d265e2213983a90833202'),\n",
       "  'ID': 'H87567',\n",
       "  'name': 'scene camera',\n",
       "  'type': 'camera',\n",
       "  'availability': '1',\n",
       "  'last_update': '2019-02-08 14:49:02',\n",
       "  'assigned': '1'}]"
      ]
     },
     "execution_count": 26,
     "metadata": {},
     "output_type": "execute_result"
    }
   ],
   "source": [
    "print_collection(hardware, print_out = False)"
   ]
  },
  {
   "cell_type": "code",
   "execution_count": null,
   "metadata": {},
   "outputs": [],
   "source": []
  }
 ],
 "metadata": {
  "kernelspec": {
   "display_name": "Python 3",
   "language": "python",
   "name": "python3"
  },
  "language_info": {
   "codemirror_mode": {
    "name": "ipython",
    "version": 3
   },
   "file_extension": ".py",
   "mimetype": "text/x-python",
   "name": "python",
   "nbconvert_exporter": "python",
   "pygments_lexer": "ipython3",
   "version": "3.6.6"
  }
 },
 "nbformat": 4,
 "nbformat_minor": 1
}
